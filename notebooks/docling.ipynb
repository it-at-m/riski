{
 "cells": [
  {
   "cell_type": "markdown",
   "id": "0",
   "metadata": {},
   "source": [
    "# Docling + LangChain PDF Parsing Test\n",
    "Dieses Notebook lädt alle PDFs aus einem Ordner mit DoclingLoader und analysiert die Verarbeitungsgeschwindigkeit.\n",
    "\n",
    "## Installation"
   ]
  },
  {
   "cell_type": "code",
   "execution_count": null,
   "id": "1",
   "metadata": {},
   "outputs": [],
   "source": [
    "!uv add langchain-docling"
   ]
  },
  {
   "cell_type": "markdown",
   "id": "2",
   "metadata": {},
   "source": [
    "## Setup und Imports"
   ]
  },
  {
   "cell_type": "code",
   "execution_count": null,
   "id": "3",
   "metadata": {},
   "outputs": [],
   "source": [
    "import os\n",
    "import time\n",
    "\n",
    "from langchain_docling import DoclingLoader\n",
    "\n",
    "folder_path = \"../src/docling/test_files/\"\n",
    "assert os.path.isdir(folder_path), f\"Ordner nicht gefunden: {folder_path}\"\n",
    "pdf_files = [os.path.join(folder_path, f) for f in os.listdir(folder_path) if f.lower().endswith(\".pdf\")]\n",
    "assert pdf_files, f\"Keine PDF-Dateien in {folder_path} gefunden.\"\n",
    "print(f\"{len(pdf_files)} PDF-Dateien gefunden.\")"
   ]
  },
  {
   "cell_type": "markdown",
   "id": "4",
   "metadata": {},
   "source": [
    "## Dokumente laden und Zeit messen"
   ]
  },
  {
   "cell_type": "code",
   "execution_count": null,
   "id": "5",
   "metadata": {},
   "outputs": [],
   "source": [
    "all_documents = []\n",
    "start_time = time.time()\n",
    "\n",
    "for pdf_path in pdf_files:\n",
    "    loader = DoclingLoader(pdf_path)\n",
    "    docs = loader.load()\n",
    "    all_documents.extend(docs)\n",
    "\n",
    "duration = time.time() - start_time\n",
    "\n",
    "print(f\"Gesamt geladene Seiten: {len(all_documents)}\")\n",
    "print(f\"⏱ Gesamtdauer: {duration:.2f} Sekunden\")"
   ]
  },
  {
   "cell_type": "markdown",
   "id": "6",
   "metadata": {},
   "source": [
    "## Performance-Schätzung für 1000 Seiten"
   ]
  },
  {
   "cell_type": "code",
   "execution_count": null,
   "id": "7",
   "metadata": {},
   "outputs": [],
   "source": [
    "seiten = len(all_documents)\n",
    "pro_seite = duration / seiten if seiten > 0 else 0\n",
    "hochrechnung = pro_seite * 1000\n",
    "\n",
    "print(f\"Ø Zeit pro Seite: {pro_seite:.2f} s\")\n",
    "print(f\"Geschätzte Zeit für 1000 Seiten: {hochrechnung / 60:.2f} Minuten\")"
   ]
  },
  {
   "cell_type": "markdown",
   "id": "8",
   "metadata": {},
   "source": [
    "## Beispieloutput anzeigen"
   ]
  },
  {
   "cell_type": "code",
   "execution_count": null,
   "id": "9",
   "metadata": {},
   "outputs": [],
   "source": [
    "if all_documents:\n",
    "    print(\"=== Beispiel: Erste Seite ===\")\n",
    "    print(\"Metadaten:\", all_documents[0].metadata)\n",
    "    print(\"Textauszug:\", all_documents[0].page_content[:500])\n",
    "else:\n",
    "    print(\"⚠️ Keine Dokumente geladen.\")"
   ]
  }
 ],
 "metadata": {
  "kernelspec": {
   "display_name": ".venv",
   "language": "python",
   "name": "python3"
  },
  "language_info": {
   "codemirror_mode": {
    "name": "ipython",
    "version": 3
   },
   "file_extension": ".py",
   "mimetype": "text/x-python",
   "name": "python",
   "nbconvert_exporter": "python",
   "pygments_lexer": "ipython3",
   "version": "3.11.10"
  }
 },
 "nbformat": 4,
 "nbformat_minor": 5
}
