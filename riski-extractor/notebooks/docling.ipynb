{
 "cells": [
  {
   "cell_type": "markdown",
   "id": "0",
   "metadata": {},
   "source": [
    "# Docling + LangChain PDF Parsing Test\n",
    "Dieses Notebook lädt alle PDFs aus einem Ordner mit DoclingLoader und analysiert die Verarbeitungsgeschwindigkeit.\n",
    "\n",
    "## Installation"
   ]
  },
  {
   "cell_type": "code",
   "execution_count": null,
   "id": "1",
   "metadata": {},
   "outputs": [],
   "source": [
    "!uv add langchain-docling"
   ]
  },
  {
   "cell_type": "markdown",
   "id": "2",
   "metadata": {},
   "source": [
    "## Setup und Imports"
   ]
  },
  {
   "cell_type": "code",
   "execution_count": null,
   "id": "3",
   "metadata": {},
   "outputs": [],
   "source": [
    "import os\n",
    "import time\n",
    "\n",
    "from langchain_docling import DoclingLoader\n",
    "\n",
    "folder_path = \"../src/docling/test_files/\"\n",
    "assert os.path.isdir(folder_path), f\"Ordner nicht gefunden: {folder_path}\"\n",
    "pdf_files = [os.path.join(folder_path, f) for f in os.listdir(folder_path) if f.lower().endswith(\".pdf\")]\n",
    "assert pdf_files, f\"Keine PDF-Dateien in {folder_path} gefunden.\"\n",
    "print(f\"{len(pdf_files)} PDF-Dateien gefunden.\")"
   ]
  },
  {
   "cell_type": "markdown",
   "id": "4",
   "metadata": {},
   "source": [
    "## Dokumente laden und Zeit messen"
   ]
  },
  {
   "cell_type": "code",
   "execution_count": null,
   "id": "5",
   "metadata": {},
   "outputs": [],
   "source": [
    "all_documents = []\n",
    "start_time = time.time()\n",
    "\n",
    "for pdf_path in pdf_files:\n",
    "    loader = DoclingLoader(pdf_path)\n",
    "    docs = loader.load()\n",
    "    all_documents.extend(docs)\n",
    "\n",
    "duration = time.time() - start_time\n",
    "\n",
    "print(f\"Gesamt geladene Seiten: {len(all_documents)}\")\n",
    "print(f\"⏱ Gesamtdauer: {duration:.2f} Sekunden\")"
   ]
  },
  {
   "cell_type": "markdown",
   "id": "6",
   "metadata": {},
   "source": [
    "## Performance-Schätzung für 1000 Seiten"
   ]
  },
  {
   "cell_type": "code",
   "execution_count": null,
   "id": "7",
   "metadata": {},
   "outputs": [],
   "source": [
    "seiten = len(all_documents)\n",
    "pro_seite = duration / seiten if seiten > 0 else 0\n",
    "hochrechnung = pro_seite * 1000\n",
    "\n",
    "print(f\"Ø Zeit pro Seite: {pro_seite:.2f} s\")\n",
    "print(f\"Geschätzte Zeit für 1000 Seiten: {hochrechnung / 60:.2f} Minuten\")"
   ]
  },
  {
   "cell_type": "markdown",
   "id": "8",
   "metadata": {},
   "source": [
    "## Beispieloutput anzeigen"
   ]
  },
  {
   "cell_type": "code",
   "execution_count": null,
   "id": "9",
   "metadata": {},
   "outputs": [],
   "source": [
    "if all_documents:\n",
    "    print(\"=== Beispiel: Erste Seite ===\")\n",
    "    print(\"Metadaten:\", all_documents[0].metadata)\n",
    "    print(\"Textauszug:\", all_documents[0].page_content[:500])\n",
    "else:\n",
    "    print(\"⚠️ Keine Dokumente geladen.\")"
   ]
  },
  {
   "cell_type": "markdown",
   "id": "10",
   "metadata": {},
   "source": [
    "## Durch gesamten Ordner iterieren und Output in .md files speichern"
   ]
  },
  {
   "cell_type": "code",
   "execution_count": null,
   "id": "11",
   "metadata": {},
   "outputs": [],
   "source": [
    "output_folder = \"../src/docling/output_md_docling/\"\n",
    "os.makedirs(output_folder, exist_ok=True)\n",
    "\n",
    "for idx, doc in enumerate(all_documents, start=1):\n",
    "    base_name = os.path.basename(doc.metadata.get(\"source\", f\"doc_{idx}\")).replace(\".pdf\", \"\")\n",
    "    output_file = os.path.join(output_folder, f\"{base_name}_page{idx}.md\")\n",
    "    with open(output_file, \"w\", encoding=\"utf-8\") as f:\n",
    "        f.write(f\"# Metadaten\\n{doc.metadata}\\n\\n\")\n",
    "        f.write(f\"# Inhalt\\n{doc.page_content}\")\n",
    "\n",
    "print(f\"✅ {len(all_documents)} Seiten in Markdown-Dateien gespeichert unter: {output_folder}\")"
   ]
  },
  {
   "cell_type": "code",
   "execution_count": null,
   "id": "12",
   "metadata": {},
   "outputs": [],
   "source": [
    "# %%\n",
    "from collections import defaultdict\n",
    "\n",
    "output_folder = \"../src/docling/output_md_docling/\"\n",
    "os.makedirs(output_folder, exist_ok=True)\n",
    "\n",
    "# Dokumente nach Quelle gruppieren\n",
    "grouped_docs = defaultdict(list)\n",
    "for doc in all_documents:\n",
    "    source = os.path.basename(doc.metadata.get(\"source\", \"unknown.pdf\"))\n",
    "    grouped_docs[source].append(doc)\n",
    "\n",
    "# Pro PDF eine MD-Datei schreiben\n",
    "for source, docs in grouped_docs.items():\n",
    "    base_name = source.replace(\".pdf\", \"\")\n",
    "    output_file = os.path.join(output_folder, f\"{base_name}.md\")\n",
    "    with open(output_file, \"w\", encoding=\"utf-8\") as f:\n",
    "        f.write(f\"# {base_name}\\n\\n\")\n",
    "        for idx, doc in enumerate(docs, start=1):\n",
    "            f.write(doc.page_content)\n",
    "    print(f\"📄 Gespeichert: {output_file}\")\n",
    "\n",
    "print(f\"✅ Alle PDFs als Markdown-Dateien exportiert nach: {output_folder}\")"
   ]
  },
  {
   "cell_type": "code",
   "execution_count": null,
   "id": "13",
   "metadata": {},
   "outputs": [],
   "source": []
  }
 ],
 "metadata": {
  "kernelspec": {
   "display_name": ".venv",
   "language": "python",
   "name": "python3"
  },
  "language_info": {
   "codemirror_mode": {
    "name": "ipython",
    "version": 3
   },
   "file_extension": ".py",
   "mimetype": "text/x-python",
   "name": "python",
   "nbconvert_exporter": "python",
   "pygments_lexer": "ipython3",
   "version": "3.11.10"
  }
 },
 "nbformat": 4,
 "nbformat_minor": 5
}
